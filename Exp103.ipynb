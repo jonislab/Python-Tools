{
  "cells": [
    {
      "cell_type": "markdown",
      "metadata": {
        "id": "view-in-github",
        "colab_type": "text"
      },
      "source": [
        "<a href=\"https://colab.research.google.com/github/jonislab/experiment/blob/main/Exp103.ipynb\" target=\"_parent\"><img src=\"https://colab.research.google.com/assets/colab-badge.svg\" alt=\"Open In Colab\"/></a>"
      ]
    },
    {
      "cell_type": "markdown",
      "metadata": {
        "id": "5RKY-4ulITpA"
      },
      "source": [
        "# Example 1"
      ]
    },
    {
      "cell_type": "code",
      "execution_count": 3,
      "metadata": {
        "id": "Z3Q9V6n0Iiue",
        "colab": {
          "base_uri": "https://localhost:8080/"
        },
        "outputId": "1ed6e124-21f0-43d1-82da-ca57a5f0cb3e"
      },
      "outputs": [
        {
          "output_type": "stream",
          "name": "stdout",
          "text": [
            "type of x = <class 'int'>\n",
            "value of x = 17\n"
          ]
        }
      ],
      "source": [
        "# Integer\n",
        "x = 17\n",
        "print(f'type of x = {type(x)}')\n",
        "print(f'value of x = {x}')\n"
      ]
    },
    {
      "cell_type": "code",
      "execution_count": 4,
      "metadata": {
        "colab": {
          "base_uri": "https://localhost:8080/",
          "height": 262
        },
        "id": "l1mBIjFYWVa3",
        "outputId": "4d59c2ed-9c0b-43e7-f156-d0ce290d51b5"
      },
      "outputs": [
        {
          "output_type": "stream",
          "name": "stdout",
          "text": [
            "enter a number 12\n",
            "type of y = <class 'str'>\n"
          ]
        },
        {
          "output_type": "error",
          "ename": "TypeError",
          "evalue": "ignored",
          "traceback": [
            "\u001b[0;31m---------------------------------------------------------------------------\u001b[0m",
            "\u001b[0;31mTypeError\u001b[0m                                 Traceback (most recent call last)",
            "\u001b[0;32m<ipython-input-4-5ced913cc306>\u001b[0m in \u001b[0;36m<cell line: 6>\u001b[0;34m()\u001b[0m\n\u001b[1;32m      4\u001b[0m \u001b[0mprint\u001b[0m\u001b[0;34m(\u001b[0m\u001b[0;34mf'type of y = {type(y)}'\u001b[0m\u001b[0;34m)\u001b[0m\u001b[0;34m\u001b[0m\u001b[0;34m\u001b[0m\u001b[0m\n\u001b[1;32m      5\u001b[0m \u001b[0;34m\u001b[0m\u001b[0m\n\u001b[0;32m----> 6\u001b[0;31m \u001b[0myy\u001b[0m\u001b[0;34m=\u001b[0m \u001b[0my\u001b[0m \u001b[0;34m+\u001b[0m \u001b[0;36m10\u001b[0m\u001b[0;34m\u001b[0m\u001b[0;34m\u001b[0m\u001b[0m\n\u001b[0m\u001b[1;32m      7\u001b[0m \u001b[0mprint\u001b[0m\u001b[0;34m(\u001b[0m\u001b[0myy\u001b[0m\u001b[0;34m)\u001b[0m\u001b[0;34m\u001b[0m\u001b[0;34m\u001b[0m\u001b[0m\n",
            "\u001b[0;31mTypeError\u001b[0m: can only concatenate str (not \"int\") to str"
          ]
        }
      ],
      "source": [
        "# entering a number\n",
        "#\n",
        "y=input(\"enter a number \")\n",
        "print(f'type of y = {type(y)}')\n",
        "\n",
        "yy= y + 10\n",
        "print(yy)\n"
      ]
    },
    {
      "cell_type": "code",
      "source": [
        "# using function int()\n",
        "y=input(\"enter a number \")\n",
        "yy = int(y) + 10\n",
        "print(f'value of yy = {yy}')"
      ],
      "metadata": {
        "colab": {
          "base_uri": "https://localhost:8080/"
        },
        "id": "pWNbsbs3LhIu",
        "outputId": "5412648f-41d4-4060-95c9-d5a39790333c"
      },
      "execution_count": 6,
      "outputs": [
        {
          "output_type": "stream",
          "name": "stdout",
          "text": [
            "enter a number 15\n",
            "value of yy = 25\n"
          ]
        }
      ]
    },
    {
      "cell_type": "code",
      "source": [
        "# Float\n",
        "y=input(\"enter a number between 10 and 11: \")\n",
        "print(f'type of y = {type(y)}')\n",
        "\n",
        "yy= float(y) + 10\n",
        "print(f'type of yy = {type(yy)}')\n",
        "print(f'value of yy = {yy}')\n"
      ],
      "metadata": {
        "colab": {
          "base_uri": "https://localhost:8080/"
        },
        "outputId": "81e83c0a-5c2d-47ae-a64e-e7c561d72a21",
        "id": "rWoGlYiRTSWZ"
      },
      "execution_count": 7,
      "outputs": [
        {
          "output_type": "stream",
          "name": "stdout",
          "text": [
            "enter a number between 10 and 11: 10.16\n",
            "type of y = <class 'str'>\n",
            "type of yy = <class 'float'>\n",
            "value of yy = 20.16\n"
          ]
        }
      ]
    },
    {
      "cell_type": "code",
      "source": [
        "# adding integer and float\n",
        "\n",
        "my_integer=12\n",
        "my_float = 10.1117\n",
        "mynew_var=my_integer + my_float\n",
        "print(f'type of mynew_var = {type(mynew_var)}')\n",
        "print(f'value of mynew_var = {mynew_var}')"
      ],
      "metadata": {
        "colab": {
          "base_uri": "https://localhost:8080/"
        },
        "id": "PAv9Kto7Zy1Y",
        "outputId": "4ec22825-25d5-4013-c909-5a942ae849d5"
      },
      "execution_count": 8,
      "outputs": [
        {
          "output_type": "stream",
          "name": "stdout",
          "text": [
            "type of mynew_var = <class 'float'>\n",
            "value of mynew_var = 22.1117\n"
          ]
        }
      ]
    },
    {
      "cell_type": "code",
      "source": [
        "# Complex Numbers\n",
        "# a + bj  where a is real number and b is imaginary\n",
        "d = complex(1,2)\n",
        "e = complex(-2,3)\n",
        "f = complex(0,5)\n",
        "\n",
        "print(d)\n",
        "print(e)\n",
        "print(f)\n"
      ],
      "metadata": {
        "colab": {
          "base_uri": "https://localhost:8080/"
        },
        "id": "xGGkW1xAstOl",
        "outputId": "d1f56686-95a4-41e7-e279-a8407e8e480d"
      },
      "execution_count": 9,
      "outputs": [
        {
          "output_type": "stream",
          "name": "stdout",
          "text": [
            "(1+2j)\n",
            "(-2+3j)\n",
            "5j\n"
          ]
        }
      ]
    },
    {
      "cell_type": "code",
      "source": [
        "# Arithmetic operations\n",
        "my_integer = 13\n",
        "my_float=2.3\n",
        "result_addition = my_integer + my_float\n",
        "print(f'result_addition={result_addition}')\n",
        "\n",
        "result_subtraction = my_integer - my_float\n",
        "print(f'result_subtraction={result_subtraction}')\n",
        "\n",
        "result_multiplication = my_integer * my_float\n",
        "print(f'result_multiplication={result_multiplication}')\n",
        "\n",
        "result_division = my_integer / my_float\n",
        "print(f'result_division={result_division}')\n",
        "print(f'type of result_division = {type(result_division)}')\n",
        "\n"
      ],
      "metadata": {
        "colab": {
          "base_uri": "https://localhost:8080/"
        },
        "id": "M22Hlpv3aCqz",
        "outputId": "5cbdee63-525f-40c0-aa16-030bc57eec04"
      },
      "execution_count": 10,
      "outputs": [
        {
          "output_type": "stream",
          "name": "stdout",
          "text": [
            "result_addition=15.3\n",
            "result_subtraction=10.7\n",
            "result_multiplication=29.9\n",
            "result_division=5.6521739130434785\n",
            "type of result_division = <class 'float'>\n"
          ]
        }
      ]
    },
    {
      "cell_type": "code",
      "source": [
        "# What is the difference between / and //?\n",
        "\n",
        "result_division = my_integer // my_float\n",
        "print(f'result_division={result_division}')\n",
        "print(f'type of result_division = {type(result_division)}')"
      ],
      "metadata": {
        "colab": {
          "base_uri": "https://localhost:8080/"
        },
        "id": "eUaTAcoaNVBM",
        "outputId": "bbd1d015-5b92-430e-d622-c3f876e2aebe"
      },
      "execution_count": 11,
      "outputs": [
        {
          "output_type": "stream",
          "name": "stdout",
          "text": [
            "result_division=5.0\n",
            "type of result_division = <class 'float'>\n"
          ]
        }
      ]
    },
    {
      "cell_type": "code",
      "source": [
        "# Convert float to integer using int\n",
        "\n",
        "print(int(result_multiplication))\n",
        "print(int(result_division))\n"
      ],
      "metadata": {
        "id": "6xfvftJ-d47S",
        "colab": {
          "base_uri": "https://localhost:8080/"
        },
        "outputId": "2b29d0de-8c82-4555-aca3-e8ca5c963cf6"
      },
      "execution_count": 13,
      "outputs": [
        {
          "output_type": "stream",
          "name": "stdout",
          "text": [
            "29\n",
            "5\n"
          ]
        }
      ]
    },
    {
      "cell_type": "markdown",
      "source": [
        "# Math Module Topics"
      ],
      "metadata": {
        "id": "5c4OPkYcC8gM"
      }
    },
    {
      "cell_type": "code",
      "source": [
        "#get the integer and fractional part of the floating number\n",
        "# https://docs.python.org/3/library/math.html\n",
        "\n",
        "import math\n",
        "\n",
        "# modf takes a float number and split the fraction and integer part\n",
        "num=15.5\n",
        "fractional_part, integer_part = math.modf(num)\n",
        "\n",
        "print(f\"with num={num}. the integer part is {integer_part} and the fractional part is {fractional_part}\")\n"
      ],
      "metadata": {
        "colab": {
          "base_uri": "https://localhost:8080/"
        },
        "id": "1gZZFkrgemFX",
        "outputId": "da88c703-af95-40e5-c498-4ca3ed0f7c11"
      },
      "execution_count": 14,
      "outputs": [
        {
          "output_type": "stream",
          "name": "stdout",
          "text": [
            "with num=15.5. the integer part is 15.0 and the fractional part is 0.5\n"
          ]
        }
      ]
    },
    {
      "cell_type": "code",
      "source": [
        "# Floor - Return the floor of x, the largest integer less than or equal to x\n",
        "\n",
        "a=math.floor(num)\n",
        "print(f'type of a = {type(a)}')\n",
        "print(a)\n",
        "print(f'value of math.floor(5.1)) = {math.floor(5.1)}')\n",
        "print(f'value of math.floor(5.5)) = {math.floor(5.5)}')\n",
        "print(f'value of math.floor(5.9)) = {math.floor(5.9)}')"
      ],
      "metadata": {
        "colab": {
          "base_uri": "https://localhost:8080/"
        },
        "id": "7mtfSrU05GSq",
        "outputId": "cdd33a44-2dc8-4e03-ef17-a401700121f5"
      },
      "execution_count": 15,
      "outputs": [
        {
          "output_type": "stream",
          "name": "stdout",
          "text": [
            "type of a = <class 'int'>\n",
            "15\n",
            "value of math.floor(5.1)) = 5\n",
            "value of math.floor(5.5)) = 5\n",
            "value of math.floor(5.9)) = 5\n"
          ]
        }
      ]
    },
    {
      "cell_type": "code",
      "source": [
        "# Ceiling - Return the ceiling of x, the smallest integer greater than or equal to x, or we can say next integer number\n",
        "num= math.ceil(5.7)\n",
        "print(f'type of num = {type(num)}')\n",
        "print(num)\n",
        "print(f'value of math.ceil(5.1)) = {math.ceil(5.1)}')\n",
        "print(f'value of math.ceil(5.5)) = {math.ceil(5.5)}')\n",
        "print(f'value of math.ceil(5.9)) = {math.ceil(5.9)}')"
      ],
      "metadata": {
        "colab": {
          "base_uri": "https://localhost:8080/"
        },
        "id": "WfT9lxAx5LUj",
        "outputId": "ef06e984-38b7-41f2-a7b3-40e11b2fb806"
      },
      "execution_count": 16,
      "outputs": [
        {
          "output_type": "stream",
          "name": "stdout",
          "text": [
            "type of num = <class 'int'>\n",
            "6\n",
            "value of math.ceil(5.1)) = 6\n",
            "value of math.ceil(5.5)) = 6\n",
            "value of math.ceil(5.9)) = 6\n"
          ]
        }
      ]
    },
    {
      "cell_type": "code",
      "source": [
        "# Built-in Function: divmod\n",
        "# Take two (non-complex) numbers as arguments and return a pair of numbers consisting of their quotient and remainder when using integer division\n",
        "\n",
        "print(f'value of divmod(7,3) = {divmod(7,3)}')\n",
        "print(f'value of divmod(10,3) = {divmod(10,3)}')\n",
        "print(f'value of divmod(23,4) = {divmod(23,4)}')\n",
        "a=divmod(27,7)\n",
        "print(f'divmod(27,7)= {a}')\n",
        "print(f'divmod(number, divide by) results in type = {type(a)} as (quotient={a[0]},remainder ={a[1]} )')\n"
      ],
      "metadata": {
        "colab": {
          "base_uri": "https://localhost:8080/"
        },
        "id": "y5nHRgHT4B_E",
        "outputId": "40dc33dc-a8c1-4236-b589-25f6897a636a"
      },
      "execution_count": 17,
      "outputs": [
        {
          "output_type": "stream",
          "name": "stdout",
          "text": [
            "value of divmod(7,3) = (2, 1)\n",
            "value of divmod(10,3) = (3, 1)\n",
            "value of divmod(23,4) = (5, 3)\n",
            "divmod(27,7)= (3, 6)\n",
            "divmod(number, divide by) results in type = <class 'tuple'> as (quotient=3,remainder =6 )\n"
          ]
        }
      ]
    },
    {
      "cell_type": "markdown",
      "source": [
        "# Ranges"
      ],
      "metadata": {
        "id": "3C3wR4QqEVIg"
      }
    },
    {
      "cell_type": "code",
      "source": [
        "# working with ranges\n",
        "num=10\n",
        "a = range(num)\n",
        "print(type(a))\n",
        "print(f'a={a}')\n",
        "print([i for i in range(num)])\n",
        "# get the sum of a range\n",
        "print(f'sum(a) = {sum(a)}  is also equal to {(num * (num-1))/2}')"
      ],
      "metadata": {
        "colab": {
          "base_uri": "https://localhost:8080/"
        },
        "id": "6KHnObJtEW76",
        "outputId": "15928fb4-8795-4b4b-9daf-12eef6f7d67e"
      },
      "execution_count": 18,
      "outputs": [
        {
          "output_type": "stream",
          "name": "stdout",
          "text": [
            "<class 'range'>\n",
            "a=range(0, 10)\n",
            "[0, 1, 2, 3, 4, 5, 6, 7, 8, 9]\n",
            "sum(a) = 45  is also equal to 45.0\n"
          ]
        }
      ]
    },
    {
      "cell_type": "markdown",
      "source": [
        "# Managing numbers from a CSV file"
      ],
      "metadata": {
        "id": "xgWVO-9oDDkD"
      }
    },
    {
      "cell_type": "code",
      "source": [
        "# Reading CSV and transform to List\n",
        "import csv\n",
        "\n",
        "# read the CSV file and convert it to list\n",
        "def read_csv_to_list(filename):\n",
        "    data = []\n",
        "    try:\n",
        "        with open(filename, mode='r', encoding='ISO-8859-1') as file:\n",
        "            reader = csv.reader(file)\n",
        "            for row in reader:\n",
        "                data.append(row)\n",
        "    except FileNotFoundError:\n",
        "        print(\"File not found.\")\n",
        "    return data\n",
        "\n",
        "fn='/content/sample_data/spotify-2023.csv'\n",
        "spotify = read_csv_to_list(fn)\n",
        "\n",
        "# get total number of items in the list\n",
        "print(f'total records  = {len(spotify)}')\n",
        "\n"
      ],
      "metadata": {
        "colab": {
          "base_uri": "https://localhost:8080/"
        },
        "id": "X9zD0LpKFddf",
        "outputId": "9a18d89a-aaf4-43e6-e122-9667313ae046"
      },
      "execution_count": 19,
      "outputs": [
        {
          "output_type": "stream",
          "name": "stdout",
          "text": [
            "total records  = 953\n"
          ]
        }
      ]
    },
    {
      "cell_type": "code",
      "source": [
        "\n",
        "# filter list by \"Eminem\"\n",
        "eminem_list=[item for item in spotify if item[1]==\"Eminem\"]\n",
        "print (f' there are {len(eminem_list)} records')\n",
        "for i in eminem_list:\n",
        "  print(i)"
      ],
      "metadata": {
        "colab": {
          "base_uri": "https://localhost:8080/"
        },
        "id": "w38YONd9D6aS",
        "outputId": "d854fd3b-f3a6-4dad-e0a3-f08a41b1f619"
      },
      "execution_count": 20,
      "outputs": [
        {
          "output_type": "stream",
          "name": "stdout",
          "text": [
            " there are 4 records\n",
            "['Mockingbird', 'Eminem', '1', '2004', '1', '1', '12985', '61', '1241559043', '49', '98', '2,394', '5', '204', '84', 'E', 'Minor', '62', '24', '67', '21', '0', '13', '28']\n",
            "['Without Me', 'Eminem', '1', '2002', '1', '1', '21081', '43', '1687664027', '98', '76', '3,889', '5', '0', '112', 'G', 'Major', '92', '67', '66', '0', '0', '36', '9']\n",
            "['The Real Slim Shady', 'Eminem', '1', '2000', '1', '1', '20763', '27', '1424589568', '81', '53', '3,271', '1', '17', '104', 'F', 'Minor', '95', '78', '66', '3', '0', '4', '6']\n",
            "['Lose Yourself - Soundtrack Version', 'Eminem', '1', '2002', '1', '1', '32502', '21', '1829992958', '247', '54', '5,567', '1', '51', '171', 'D', 'Major', '70', '6', '73', '1', '0', '36', '26']\n"
          ]
        }
      ]
    },
    {
      "cell_type": "code",
      "source": [
        "# extract a single column from the Eminem list\n",
        "eminem_streams=[item[8] for item in eminem_list]\n",
        "print(\"eminem_streams\")\n",
        "print(eminem_streams)"
      ],
      "metadata": {
        "colab": {
          "base_uri": "https://localhost:8080/"
        },
        "id": "obTHMp9kD7dU",
        "outputId": "636cf9b9-3fc6-4caa-a1f4-fd5c12ac4037"
      },
      "execution_count": 21,
      "outputs": [
        {
          "output_type": "stream",
          "name": "stdout",
          "text": [
            "eminem_streams\n",
            "['1241559043', '1687664027', '1424589568', '1829992958']\n"
          ]
        }
      ]
    },
    {
      "cell_type": "code",
      "source": [
        "# Get the sum of all Eminem streams\n",
        "total_eminem_streams= sum([int(item) for item in eminem_streams])\n",
        "print(f\"total streams for Eminem in 2023 = {total_eminem_streams}\")"
      ],
      "metadata": {
        "colab": {
          "base_uri": "https://localhost:8080/"
        },
        "id": "jfQOBLcQD_wd",
        "outputId": "cbdb1a2e-cf8e-4596-a72f-bde2321a602e"
      },
      "execution_count": 22,
      "outputs": [
        {
          "output_type": "stream",
          "name": "stdout",
          "text": [
            "total streams for Eminem in 2023 = 6183805596\n"
          ]
        }
      ]
    },
    {
      "cell_type": "code",
      "source": [
        "# sort the items\n",
        "eminem_streams_sorted=sorted(eminem_streams, reverse=True)\n",
        "print('unsorted items')\n",
        "print(eminem_streams)\n",
        "print(\"sorted items\")\n",
        "print(eminem_streams_sorted)"
      ],
      "metadata": {
        "colab": {
          "base_uri": "https://localhost:8080/"
        },
        "id": "Rd-pEzMoECfu",
        "outputId": "82c6455f-dedd-441d-f838-25e962776c2c"
      },
      "execution_count": 23,
      "outputs": [
        {
          "output_type": "stream",
          "name": "stdout",
          "text": [
            "unsorted items\n",
            "['1241559043', '1687664027', '1424589568', '1829992958']\n",
            "sorted items\n",
            "['1829992958', '1687664027', '1424589568', '1241559043']\n"
          ]
        }
      ]
    },
    {
      "cell_type": "markdown",
      "source": [
        "#Managing numbers with other modules\n"
      ],
      "metadata": {
        "id": "naEoRzPfQqbD"
      }
    },
    {
      "cell_type": "code",
      "source": [
        "import pandas as pd\n",
        "import yfinance as yf\n",
        "import matplotlib.pyplot as plt\n",
        "\n",
        "# get Date\n",
        "start_date = pd.Timestamp.now() - pd.DateOffset(months=12)\n",
        "end_date = pd.Timestamp.now()\n",
        "\n",
        "historical_data = yf.download(['TSLA'], start=start_date, end=end_date)[\"Close\"]\n",
        "print(f'Total number of rows = {len(historical_data)}')\n",
        "print(historical_data)\n",
        "print(type(historical_data))\n",
        "plt.plot(historical_data)\n",
        "plt.xlabel(\"Date\")\n",
        "plt.ylabel(\"Close Price\")\n",
        "plt.title(\"Combined Close Price\")\n",
        "plt.legend(['TSLA'])\n",
        "plt.show()\n"
      ],
      "metadata": {
        "colab": {
          "base_uri": "https://localhost:8080/",
          "height": 750
        },
        "id": "SFTM2nGTJuxQ",
        "outputId": "b41fd421-148b-45e3-ebbc-a8f9126b585b"
      },
      "execution_count": 25,
      "outputs": [
        {
          "output_type": "stream",
          "name": "stdout",
          "text": [
            "\r[*********************100%%**********************]  1 of 1 completed\n",
            "Total number of rows = 250\n",
            "Date\n",
            "2022-10-10    222.960007\n",
            "2022-10-11    216.500000\n",
            "2022-10-12    217.240005\n",
            "2022-10-13    221.720001\n",
            "2022-10-14    204.990005\n",
            "                 ...    \n",
            "2023-10-02    251.600006\n",
            "2023-10-03    246.529999\n",
            "2023-10-04    261.160004\n",
            "2023-10-05    260.049988\n",
            "2023-10-06    260.529999\n",
            "Name: Close, Length: 250, dtype: float64\n",
            "<class 'pandas.core.series.Series'>\n"
          ]
        },
        {
          "output_type": "display_data",
          "data": {
            "text/plain": [
              "<Figure size 640x480 with 1 Axes>"
            ],
            "image/png": "[encoded data removed]"
          },
          "metadata": {}
        }
      ]
    },
    {
      "cell_type": "markdown",
      "source": [
        "#Intro to Numpy"
      ],
      "metadata": {
        "id": "8mJbZhuVQaYW"
      }
    },
    {
      "cell_type": "code",
      "source": [
        "\n",
        "\n",
        "import numpy as np\n",
        "\n",
        "# Create a NumPy array with specified dtype (data type)\n",
        "arr_int = np.array([1, 2, 3, 4], dtype=np.int32)\n",
        "print(\"Array with Integer Dtype: \", arr_int.dtype)\n",
        "print(arr_int)\n",
        "\n",
        "# Create a NumPy array with specified float64 dtype\n",
        "arr_float = np.array([1.1, 2.2, 3.3], dtype=np.float64)\n",
        "print(\"Array with Float Dtype: \", arr_float.dtype)\n",
        "print (arr_float)\n",
        "\n",
        "# Converting the dtype of an array\n",
        "arr_int = arr_int.astype(np.float64)\n",
        "print(\"Updated Array with Float Dtype: \", arr_int.dtype)\n",
        "print(arr_int)"
      ],
      "metadata": {
        "colab": {
          "base_uri": "https://localhost:8080/"
        },
        "id": "QivcHQkWPEt6",
        "outputId": "1cc60e45-bec2-49fa-b53e-1c308a352119"
      },
      "execution_count": 26,
      "outputs": [
        {
          "output_type": "stream",
          "name": "stdout",
          "text": [
            "Array with Integer Dtype:  int32\n",
            "[1 2 3 4]\n",
            "Array with Float Dtype:  float64\n",
            "[1.1 2.2 3.3]\n",
            "Updated Array with Float Dtype:  float64\n",
            "[1. 2. 3. 4.]\n"
          ]
        }
      ]
    },
    {
      "cell_type": "markdown",
      "source": [
        "#Thats about it for the Python Numeric Data Type Series!"
      ],
      "metadata": {
        "id": "WomTFcT5Xuy7"
      }
    }
  ],
  "metadata": {
    "colab": {
      "provenance": [],
      "include_colab_link": true
    },
    "kernelspec": {
      "display_name": "Python 3",
      "name": "python3"
    },
    "language_info": {
      "name": "python"
    }
  },
  "nbformat": 4,
  "nbformat_minor": 0
}